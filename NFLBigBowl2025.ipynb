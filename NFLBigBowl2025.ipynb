{
 "cells": [
  {
   "cell_type": "markdown",
   "metadata": {},
   "source": [
    "# Overview\n",
    "The National Football League (NFL) is back with another Big Data Bowl, where contestants use Next Gen Stats player tracking data to generate actionable, creative, and novel stats. Previous iterations have analyzed running backs, defensive backs, special teams, pass rush plays, and tackling, and have generated metrics that have been used on television and by NFL teams.\n",
    "\n",
    "This year's competition turns to a new type of data -- what happens before the snap -- to generate creative insights and actionable predictions into what the offense or defense does after the snap.\n",
    "\n",
    "## Description\n",
    "\n",
    "### 2025 Theme: Pre-snap to post-snap predictions\n",
    "\n",
    "NFL offenses have 40 seconds in which to run a play. That time begins with substitutions, as players run on and off the field until both teams' personnel are configured. It continues into the play call, where both the offensive and defensive units learn their formation and assignments. It ends with myriad strategic decisions by the 22 players on the field, including motion, shifts, and alignment changes, designed to both confuse the opponent and capitalize on any advantages.\n",
    "\n",
    "In all that action prior to the snap, both teams likely divulge patterns in what players will do after the snap. The goal of this year's competition aims to tell us just what those patterns are.\n",
    "\n",
    "### Examples to consider\n",
    "\n",
    "Your challenge is generating actionable, practical, and novel insights from player tracking data corresponding to pre-snap team and player tendencies. Examples include, but are not limited to:\n",
    "\n",
    "- Play prediction (run v pass)\n",
    "- Scheme prediction (blitzes, run fits, route combinations, etc)\n",
    "- Player prediction (pass patterns, blocking assignments, etc)\n",
    "Note that the above list is not exhaustive, and we encourage participants to be creative with their submissions.\n",
    "\n",
    "## Evaluation\n",
    "\n",
    "### Submission tracks\n",
    "\n",
    "Participants will select one of three tracks in which to submit.\n",
    "\n",
    "- Undergraduate track. Open only to groups or individuals composed entirely of undergraduate students. Verification may be required to prove eligibility.\n",
    "- Metric track. Leverage pre-snap data to assess team or player performance and/or strategy to create a post-snap outcome. You may focus on offensive or defensive players, teams, or individuals. In general, the more narrow the focus, the better the paper.\n",
    "- Coaching presentation track. Analyze and present data in a submission designed for coaches (e.g, a scouting report). We encourage participants interested in this track to partner with a coach (or current/former player), though this isn’t required.\n",
    "\n",
    "All submissions must explicitly state which track they are submitting to, and participants may not submit to multiple tracks.\n",
    "\n",
    "Note: For this year, the Coaching Presentation Track will be requiring submissions in the form of a slide presentation saved as a PDF. Please upload your PDF slides as a Kaggle Dataset, and ensure that dataset is public prior to the submission deadline of January 6, 2025. In your submission form, please provide the URL to the Kaggle Dataset for review."
   ]
  },
  {
   "cell_type": "code",
   "execution_count": 1,
   "metadata": {},
   "outputs": [
    {
     "name": "stdout",
     "output_type": "stream",
     "text": [
      "CPU times: user 2 µs, sys: 0 ns, total: 2 µs\n",
      "Wall time: 2.86 µs\n"
     ]
    }
   ],
   "source": [
    "# CONDA ENVIRONMENT\n",
    "# conda env create -f nfl.yml\n",
    "\n",
    "%time   # CPU time\n",
    "# LOAD STANDARD LIBRARIES\n",
    "\n",
    "import numpy as np\n",
    "from numpy import nan\n",
    "import pandas as pd\n",
    "\n",
    "\n",
    "import matplotlib.pyplot as plt\n",
    "from matplotlib.patches import Rectangle\n",
    "import matplotlib.colors as mcolors\n",
    "\n",
    "\n",
    "#import chart_studio.plotly as py\n",
    "import seaborn as sns\n",
    "\n",
    "\n",
    "import plotly.express as px  \n",
    "import plotly.io as pio\n",
    "import plotly.graph_objects as go\n",
    "\n",
    "\n",
    "import pickle\n",
    "import os\n",
    "import sys\n",
    "from timeit import default_timer as timer\n",
    "import datetime\n",
    "import math\n",
    "\n"
   ]
  }
 ],
 "metadata": {
  "kernelspec": {
   "display_name": "nfl",
   "language": "python",
   "name": "python3"
  },
  "language_info": {
   "codemirror_mode": {
    "name": "ipython",
    "version": 3
   },
   "file_extension": ".py",
   "mimetype": "text/x-python",
   "name": "python",
   "nbconvert_exporter": "python",
   "pygments_lexer": "ipython3",
   "version": "3.11.4"
  }
 },
 "nbformat": 4,
 "nbformat_minor": 2
}
